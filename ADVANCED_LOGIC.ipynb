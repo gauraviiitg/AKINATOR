{
 "cells": [
  {
   "cell_type": "code",
   "execution_count": 2,
   "id": "333f846f-9427-4616-af13-3b7905cec3be",
   "metadata": {},
   "outputs": [],
   "source": [
    "import pandas as pd\n",
    "import numpy as np\n",
    "import re\n",
    "import string\n",
    "from sklearn.model_selection import train_test_split\n",
    "from sklearn.preprocessing import LabelEncoder\n",
    "from sklearn.metrics import classification_report\n",
    "from transformers import BertTokenizer, BertForSequenceClassification\n",
    "from transformers import Trainer, TrainingArguments\n",
    "import torch\n"
   ]
  },
  {
   "cell_type": "code",
   "execution_count": 3,
   "id": "e3ff1e00-cdf4-444e-a014-9c9fca75652f",
   "metadata": {},
   "outputs": [],
   "source": [
    "file_path = 'updated_banking_faq_with_solutions.csv'\n",
    "df = pd.read_csv(file_path)\n",
    "\n",
    "# Clean the text data\n",
    "def preprocess_text(text):\n",
    "    text = text.translate(str.maketrans('', '', string.punctuation))\n",
    "    text = text.lower()\n",
    "    text = re.sub(r'\\d+', '', text)\n",
    "    return text\n",
    "\n",
    "df['cleaned_variation'] = df['Variation'].apply(preprocess_text)\n",
    "\n",
    "# Encode the target variable\n",
    "le = LabelEncoder()\n",
    "df['CAT_A_encoded'] = le.fit_transform(df['CAT_A'])\n"
   ]
  },
  {
   "cell_type": "code",
   "execution_count": 4,
   "id": "3b1765db-80a9-4e22-a20f-1dd34c697c2a",
   "metadata": {},
   "outputs": [],
   "source": [
    "X = df['cleaned_variation'].values\n",
    "y = df['CAT_A_encoded'].values\n",
    "\n",
    "X_train, X_test, y_train, y_test = train_test_split(X, y, test_size=0.2, random_state=42)\n"
   ]
  },
  {
   "cell_type": "code",
   "execution_count": 5,
   "id": "bcf4eb88-8ce9-4f1a-ad4b-c769ae5fc6bc",
   "metadata": {},
   "outputs": [],
   "source": [
    "tokenizer = BertTokenizer.from_pretrained('bert-base-uncased')\n",
    "\n",
    "train_encodings = tokenizer(list(X_train), truncation=True, padding=True, max_length=128)\n",
    "test_encodings = tokenizer(list(X_test), truncation=True, padding=True, max_length=128)\n"
   ]
  },
  {
   "cell_type": "code",
   "execution_count": 6,
   "id": "80a4de56-50df-4072-9de8-e4286516ac18",
   "metadata": {},
   "outputs": [],
   "source": [
    "class QueryDataset(torch.utils.data.Dataset):\n",
    "    def __init__(self, encodings, labels):\n",
    "        self.encodings = encodings\n",
    "        self.labels = labels\n",
    "\n",
    "    def __getitem__(self, idx):\n",
    "        item = {key: torch.tensor(val[idx]) for key, val in self.encodings.items()}\n",
    "        item['labels'] = torch.tensor(self.labels[idx])\n",
    "        return item\n",
    "\n",
    "    def __len__(self):\n",
    "        return len(self.labels)\n",
    "\n",
    "train_dataset = QueryDataset(train_encodings, y_train)\n",
    "test_dataset = QueryDataset(test_encodings, y_test)\n"
   ]
  },
  {
   "cell_type": "code",
   "execution_count": 7,
   "id": "6fd27fcc-004e-4952-983a-d90187f35860",
   "metadata": {},
   "outputs": [
    {
     "data": {
      "application/vnd.jupyter.widget-view+json": {
       "model_id": "5e035d2f327843c6a0b0e77c43ddf5b7",
       "version_major": 2,
       "version_minor": 0
      },
      "text/plain": [
       "model.safetensors:   0%|          | 0.00/440M [00:00<?, ?B/s]"
      ]
     },
     "metadata": {},
     "output_type": "display_data"
    },
    {
     "name": "stderr",
     "output_type": "stream",
     "text": [
      "Some weights of BertForSequenceClassification were not initialized from the model checkpoint at bert-base-uncased and are newly initialized: ['classifier.bias', 'classifier.weight']\n",
      "You should probably TRAIN this model on a down-stream task to be able to use it for predictions and inference.\n"
     ]
    }
   ],
   "source": [
    "model = BertForSequenceClassification.from_pretrained('bert-base-uncased', num_labels=len(le.classes_))\n"
   ]
  },
  {
   "cell_type": "code",
   "execution_count": 8,
   "id": "f1d1a9f1-15bd-413e-85e4-9de4542b8f94",
   "metadata": {},
   "outputs": [],
   "source": [
    "training_args = TrainingArguments(\n",
    "    output_dir='./results',\n",
    "    num_train_epochs=3,\n",
    "    per_device_train_batch_size=8,\n",
    "    per_device_eval_batch_size=8,\n",
    "    warmup_steps=500,\n",
    "    weight_decay=0.01,\n",
    "    logging_dir='./logs',\n",
    "    logging_steps=10,\n",
    "    evaluation_strategy='epoch',\n",
    ")\n"
   ]
  },
  {
   "cell_type": "code",
   "execution_count": 9,
   "id": "fdcf9aa1-a36a-4da0-82cb-d92b0e951446",
   "metadata": {},
   "outputs": [],
   "source": [
    "trainer = Trainer(\n",
    "    model=model,\n",
    "    args=training_args,\n",
    "    train_dataset=train_dataset,\n",
    "    eval_dataset=test_dataset\n",
    ")\n"
   ]
  },
  {
   "cell_type": "code",
   "execution_count": 10,
   "id": "e6d460fc-cfa9-4232-8999-bcb5f5333ebd",
   "metadata": {},
   "outputs": [
    {
     "name": "stderr",
     "output_type": "stream",
     "text": [
      "/home/gaurav/.local/lib/python3.10/site-packages/transformers/optimization.py:411: FutureWarning: This implementation of AdamW is deprecated and will be removed in a future version. Use the PyTorch implementation torch.optim.AdamW instead, or set `no_deprecation_warning=True` to disable this warning\n",
      "  warnings.warn(\n"
     ]
    },
    {
     "data": {
      "text/html": [
       "\n",
       "    <div>\n",
       "      \n",
       "      <progress value='720' max='720' style='width:300px; height:20px; vertical-align: middle;'></progress>\n",
       "      [720/720 20:08, Epoch 3/3]\n",
       "    </div>\n",
       "    <table border=\"1\" class=\"dataframe\">\n",
       "  <thead>\n",
       " <tr style=\"text-align: left;\">\n",
       "      <th>Epoch</th>\n",
       "      <th>Training Loss</th>\n",
       "      <th>Validation Loss</th>\n",
       "    </tr>\n",
       "  </thead>\n",
       "  <tbody>\n",
       "    <tr>\n",
       "      <td>1</td>\n",
       "      <td>3.425100</td>\n",
       "      <td>3.314991</td>\n",
       "    </tr>\n",
       "    <tr>\n",
       "      <td>2</td>\n",
       "      <td>1.238900</td>\n",
       "      <td>1.074304</td>\n",
       "    </tr>\n",
       "    <tr>\n",
       "      <td>3</td>\n",
       "      <td>0.289000</td>\n",
       "      <td>0.414369</td>\n",
       "    </tr>\n",
       "  </tbody>\n",
       "</table><p>"
      ],
      "text/plain": [
       "<IPython.core.display.HTML object>"
      ]
     },
     "metadata": {},
     "output_type": "display_data"
    },
    {
     "data": {
      "text/plain": [
       "TrainOutput(global_step=720, training_loss=2.1985940148433047, metrics={'train_runtime': 1212.5738, 'train_samples_per_second': 4.75, 'train_steps_per_second': 0.594, 'total_flos': 62185659863040.0, 'train_loss': 2.1985940148433047, 'epoch': 3.0})"
      ]
     },
     "execution_count": 10,
     "metadata": {},
     "output_type": "execute_result"
    }
   ],
   "source": [
    "trainer.train()\n"
   ]
  },
  {
   "cell_type": "code",
   "execution_count": 11,
   "id": "6535bb92-94f4-4746-ad96-80882ff7ff2a",
   "metadata": {},
   "outputs": [
    {
     "data": {
      "text/html": [
       "\n",
       "    <div>\n",
       "      \n",
       "      <progress value='60' max='60' style='width:300px; height:20px; vertical-align: middle;'></progress>\n",
       "      [60/60 00:11]\n",
       "    </div>\n",
       "    "
      ],
      "text/plain": [
       "<IPython.core.display.HTML object>"
      ]
     },
     "metadata": {},
     "output_type": "display_data"
    },
    {
     "data": {
      "text/plain": [
       "{'eval_loss': 0.4143691062927246,\n",
       " 'eval_runtime': 11.8193,\n",
       " 'eval_samples_per_second': 40.611,\n",
       " 'eval_steps_per_second': 5.076,\n",
       " 'epoch': 3.0}"
      ]
     },
     "execution_count": 11,
     "metadata": {},
     "output_type": "execute_result"
    }
   ],
   "source": [
    "trainer.evaluate()\n"
   ]
  },
  {
   "cell_type": "code",
   "execution_count": 12,
   "id": "73c4bdd5-c751-4374-9bd1-9c54172710ae",
   "metadata": {},
   "outputs": [],
   "source": [
    "def predict_solution(new_input):\n",
    "    # Preprocess and tokenize the input\n",
    "    cleaned_input = preprocess_text(new_input)\n",
    "    inputs = tokenizer(cleaned_input, return_tensors='pt', truncation=True, padding=True, max_length=128)\n",
    "\n",
    "    # Make the prediction\n",
    "    with torch.no_grad():\n",
    "        logits = model(**inputs).logits\n",
    "    predicted_class = torch.argmax(logits, dim=-1).item()\n",
    "\n",
    "    # Convert the encoded label back to the original category\n",
    "    predicted_cat_a = le.inverse_transform([predicted_class])[0]\n",
    "    \n",
    "    # Retrieve the corresponding solution from the DataFrame\n",
    "    solution = df.loc[df['CAT_A'] == predicted_cat_a, 'solution'].values[0]\n",
    "    return solution\n"
   ]
  },
  {
   "cell_type": "code",
   "execution_count": 13,
   "id": "b029623d-aab2-4bb7-b0de-46de7572c020",
   "metadata": {},
   "outputs": [
    {
     "name": "stdout",
     "output_type": "stream",
     "text": [
      "The solution for 'money transferred wrongly?' is: \n",
      "Please contact us immediately. We will attempt to recover the funds, but reversals depend on the other bank's policies.\n"
     ]
    }
   ],
   "source": [
    "# Example usage\n",
    "new_query = \"money transferred wrongly?\"\n",
    "predicted_solution = predict_solution(new_query)\n",
    "print(f\"The solution for '{new_query}' is: \\n{predicted_solution}\")\n"
   ]
  },
  {
   "cell_type": "code",
   "execution_count": null,
   "id": "ebe632e1-3931-46bc-ac9f-2050db5922a5",
   "metadata": {},
   "outputs": [],
   "source": []
  }
 ],
 "metadata": {
  "kernelspec": {
   "display_name": "Python 3 (ipykernel)",
   "language": "python",
   "name": "python3"
  },
  "language_info": {
   "codemirror_mode": {
    "name": "ipython",
    "version": 3
   },
   "file_extension": ".py",
   "mimetype": "text/x-python",
   "name": "python",
   "nbconvert_exporter": "python",
   "pygments_lexer": "ipython3",
   "version": "3.10.12"
  }
 },
 "nbformat": 4,
 "nbformat_minor": 5
}
